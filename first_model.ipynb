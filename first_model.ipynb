{
 "cells": [
  {
   "cell_type": "code",
   "execution_count": null,
   "metadata": {},
   "outputs": [],
   "source": [
    "import pandas as pd\n",
    "import numpy as np\n",
    "from sklearn.metrics import mean_squared_error, mean_absolute_error, r2_score\n",
    "from sklearn.metrics import f1_score,accuracy_score\n",
    "from sklearn.model_selection import train_test_split\n",
    "from sklearn.linear_model import LogisticRegression\n",
    "from sklearn.neural_network import MLPClassifier\n",
    "from sklearn.datasets import load_iris"
   ]
  },
  {
   "cell_type": "code",
   "execution_count": null,
   "metadata": {},
   "outputs": [],
   "source": [
    "import mlflow\n",
    "import mlflow.sklearn"
   ]
  },
  {
   "cell_type": "code",
   "execution_count": null,
   "metadata": {},
   "outputs": [],
   "source": [
    "X,y = load_iris(return_X_y=True)\n",
    "X_train, X_test, y_train, y_test = train_test_split(X,y)"
   ]
  },
  {
   "cell_type": "code",
   "execution_count": null,
   "metadata": {},
   "outputs": [],
   "source": [
    "learning_rate = ['constant','adaptive']\n",
    "num_layers = [(10),(10,10),(10,10,10)]"
   ]
  },
  {
   "cell_type": "code",
   "execution_count": null,
   "metadata": {},
   "outputs": [],
   "source": [
    "ep = 0\n",
    "for a in learning_rate:\n",
    "    for h in num_layers:\n",
    "        with mlflow.start_run():\n",
    "            mlp = MLPClassifier(learning_rate=a, hidden_layer_sizes=h, max_iter=400)\n",
    "            mlp.fit(X_train, y_train)\n",
    "\n",
    "            predicted = mlp.predict(X_test)\n",
    "\n",
    "            print(f\"Neural Network score: \\n\\tLearning rate:{a} \\n\\t \\\n",
    "                    Hidden Layers: {h}\")\n",
    "            print(f\"Accuracy: {accuracy_score(predicted,y_test)}\")\n",
    "\n",
    "            mlflow.log_param(\"learning_rate\", a)\n",
    "            mlflow.log_param(\"hidden_layers\", h)\n",
    "            mlflow.log_metric(\"accuracy\", accuracy_score(predicted,y_test),step=ep)\n",
    "            ep += 1\n",
    "\n",
    "            mlflow.sklearn.log_model(mlp, \"model\")"
   ]
  },
  {
   "cell_type": "code",
   "execution_count": null,
   "metadata": {},
   "outputs": [],
   "source": [
    "# mlflow.create_experiment('new_experiment')\n",
    "mlflow.set_experiment('new')"
   ]
  },
  {
   "cell_type": "code",
   "execution_count": null,
   "metadata": {},
   "outputs": [],
   "source": [
    "l1_ratio = 0.5"
   ]
  },
  {
   "cell_type": "code",
   "execution_count": null,
   "metadata": {},
   "outputs": [],
   "source": [
    "# This logistic regression is supposed to fail in\n",
    "# the first attempt due to C=0.0. The objective is\n",
    "# to show how ML Flow will show the results of a bad model\n",
    "\n",
    "ep = 0\n",
    "for i in np.arange(0,5,0.5):\n",
    "    with mlflow.start_run():\n",
    "        lr = LogisticRegression(C=i)\n",
    "        lr.fit(X_train, y_train)\n",
    "\n",
    "        predicted = lr.predict(X_test)\n",
    "\n",
    "        print(f\"Logistic Regression score: \\n\\tC:{i}\")\n",
    "        print(f\"Accuracy: {accuracy_score(predicted,y_test)}\")\n",
    "\n",
    "        mlflow.log_param(\"C\", i)\n",
    "        mlflow.log_metric(\"accuracy\", accuracy_score(predicted,y_test),step=ep)\n",
    "        ep += 1\n",
    "\n",
    "        mlflow.sklearn.log_model(lr, \"model\")"
   ]
  },
  {
   "cell_type": "code",
   "execution_count": null,
   "metadata": {},
   "outputs": [],
   "source": [
    "mlflow.set_experiment('new2')"
   ]
  },
  {
   "cell_type": "code",
   "execution_count": null,
   "metadata": {},
   "outputs": [],
   "source": [
    "#Trying to use the autolog feature\n",
    "\n",
    "mlflow.sklearn.autolog()"
   ]
  },
  {
   "cell_type": "code",
   "execution_count": null,
   "metadata": {},
   "outputs": [],
   "source": [
    "# This logistic regression is supposed to fail in\n",
    "# the first attempt due to C=0.0. The objective is\n",
    "# to show how ML Flow will show the results of a bad model\n",
    "\n",
    "ep = 0\n",
    "for i in np.arange(0,5,0.5):\n",
    "    with mlflow.start_run():\n",
    "        lr = LogisticRegression(C=i)\n",
    "        lr.fit(X_train, y_train)\n",
    "\n",
    "        predicted = lr.predict(X_test)\n",
    "\n",
    "        print(f\"Logistic Regression score: \\n\\tC:{i}\")\n",
    "        print(f\"Accuracy: {accuracy_score(predicted,y_test)}\")\n",
    "\n",
    "        ep += 1\n",
    "\n",
    "        mlflow.sklearn.log_model(lr, \"model\")"
   ]
  },
  {
   "cell_type": "code",
   "execution_count": null,
   "metadata": {},
   "outputs": [],
   "source": [
    "mlflow.sklearn.save_model(lr,'lr_model/')"
   ]
  },
  {
   "cell_type": "code",
   "execution_count": null,
   "metadata": {},
   "outputs": [],
   "source": [
    "lr = mlflow.sklearn.load_model('lr_model/')"
   ]
  },
  {
   "cell_type": "code",
   "execution_count": null,
   "metadata": {},
   "outputs": [],
   "source": [
    "X_test[:2]"
   ]
  },
  {
   "cell_type": "code",
   "execution_count": null,
   "metadata": {},
   "outputs": [],
   "source": [
    "lr.predict(X_test[:2])"
   ]
  },
  {
   "cell_type": "markdown",
   "metadata": {},
   "source": [
    "### Serving model"
   ]
  },
  {
   "cell_type": "markdown",
   "metadata": {},
   "source": [
    "mlflow models serve -m lr_model/ -h 0.0.0.0 -p 8001"
   ]
  },
  {
   "cell_type": "markdown",
   "metadata": {},
   "source": [
    "### Requesting model from terminal"
   ]
  },
  {
   "cell_type": "markdown",
   "metadata": {},
   "source": [
    "curl -X POST -H \"Content-Type:application/json; format=pandas-split\" --data '{\"columns\":[\"a\",\"b\",\"c\",\"d\"],\"data\":[[]]}' http://0.0.0.0:8001/invocations"
   ]
  },
  {
   "cell_type": "markdown",
   "metadata": {},
   "source": [
    "### Requesting model in python"
   ]
  },
  {
   "cell_type": "code",
   "execution_count": null,
   "metadata": {},
   "outputs": [],
   "source": [
    "import requests\n",
    "\n",
    "host = '0.0.0.0'\n",
    "port = '8001'\n",
    "\n",
    "url = f'http://{host}:{port}/invocations'\n",
    "\n",
    "headers = {\n",
    "    'Content-Type': 'application/json',\n",
    "}\n",
    "\n",
    "# test_data is a Pandas dataframe with data for testing the ML model\n",
    "http_data = pd.DataFrame([X_test[0]],columns=['a','b','c','d']).to_json(orient='split')\n",
    "\n",
    "r = requests.post(url=url, headers=headers, data=http_data)\n",
    "\n",
    "print(f'Predictions: {r.text}')"
   ]
  },
  {
   "cell_type": "code",
   "execution_count": null,
   "metadata": {},
   "outputs": [],
   "source": []
  }
 ],
 "metadata": {
  "kernelspec": {
   "display_name": "Python 3",
   "language": "python",
   "name": "python3"
  },
  "language_info": {
   "codemirror_mode": {
    "name": "ipython",
    "version": 3
   },
   "file_extension": ".py",
   "mimetype": "text/x-python",
   "name": "python",
   "nbconvert_exporter": "python",
   "pygments_lexer": "ipython3",
   "version": "3.8.3"
  }
 },
 "nbformat": 4,
 "nbformat_minor": 4
}
