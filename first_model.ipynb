{
 "cells": [
  {
   "cell_type": "code",
   "execution_count": 1,
   "metadata": {},
   "outputs": [],
   "source": [
    "import os\n",
    "import warnings\n",
    "import sys"
   ]
  },
  {
   "cell_type": "code",
   "execution_count": 2,
   "metadata": {},
   "outputs": [],
   "source": [
    "import pandas as pd\n",
    "import numpy as np\n",
    "from sklearn.metrics import mean_squared_error, mean_absolute_error, r2_score\n",
    "from sklearn.model_selection import train_test_split\n",
    "from sklearn.linear_model import ElasticNet"
   ]
  },
  {
   "cell_type": "code",
   "execution_count": 3,
   "metadata": {},
   "outputs": [],
   "source": [
    "import mlflow\n",
    "import mlflow.sklearn"
   ]
  },
  {
   "cell_type": "code",
   "execution_count": 4,
   "metadata": {},
   "outputs": [],
   "source": [
    "import logging\n",
    "logging.basicConfig(level=logging.WARN)\n",
    "logger = logging.getLogger(__name__)"
   ]
  },
  {
   "cell_type": "code",
   "execution_count": 5,
   "metadata": {},
   "outputs": [],
   "source": [
    "def eval_metrics(actual, pred):\n",
    "    rmse = np.sqrt(mean_squared_error(actual, pred))\n",
    "    mae = mean_absolute_error(actual, pred)\n",
    "    r2 = r2_score(actual, pred)\n",
    "    return rmse, mae, r2"
   ]
  },
  {
   "cell_type": "code",
   "execution_count": 6,
   "metadata": {},
   "outputs": [],
   "source": [
    "warnings.filterwarnings(\"ignore\")\n",
    "np.random.seed(40)"
   ]
  },
  {
   "cell_type": "code",
   "execution_count": 7,
   "metadata": {},
   "outputs": [],
   "source": [
    "# Read the wine-quality csv file from the URL\n",
    "csv_url =\\\n",
    "    'http://archive.ics.uci.edu/ml/machine-learning-databases/wine-quality/winequality-red.csv'\n",
    "try:\n",
    "    data = pd.read_csv(csv_url, sep=';')\n",
    "except Exception as e:\n",
    "    logger.exception(\n",
    "        \"Unable to download training & test CSV, check your internet connection. Error: %s\", e)"
   ]
  },
  {
   "cell_type": "code",
   "execution_count": 8,
   "metadata": {},
   "outputs": [],
   "source": [
    "# Split the data into training and test sets. (0.75, 0.25) split.\n",
    "train, test = train_test_split(data)\n",
    "\n",
    "# The predicted column is \"quality\" which is a scalar from [3, 9]\n",
    "train_x = train.drop([\"quality\"], axis=1)\n",
    "test_x = test.drop([\"quality\"], axis=1)\n",
    "train_y = train[[\"quality\"]]\n",
    "test_y = test[[\"quality\"]]"
   ]
  },
  {
   "cell_type": "code",
   "execution_count": 9,
   "metadata": {},
   "outputs": [],
   "source": [
    "alpha = 0.5\n",
    "l1_ratio = 0.5"
   ]
  },
  {
   "cell_type": "code",
   "execution_count": 11,
   "metadata": {},
   "outputs": [
    {
     "name": "stdout",
     "output_type": "stream",
     "text": [
      "Elasticnet model (alpha=0.000000, l1_ratio=0.500000):\n",
      "  RMSE: 0.6603811224461619\n",
      "  MAE: 0.507364419988892\n",
      "  R2: 0.3820931219110161\n",
      "Elasticnet model (alpha=0.100000, l1_ratio=0.500000):\n",
      "  RMSE: 0.7308996187375898\n",
      "  MAE: 0.5615486628017713\n",
      "  R2: 0.2430813606733676\n",
      "Elasticnet model (alpha=0.200000, l1_ratio=0.500000):\n",
      "  RMSE: 0.7415652207304311\n",
      "  MAE: 0.573067857646195\n",
      "  R2: 0.22082961765864062\n",
      "Elasticnet model (alpha=0.300000, l1_ratio=0.500000):\n",
      "  RMSE: 0.7573787958793152\n",
      "  MAE: 0.5893143148791097\n",
      "  R2: 0.18724431943947972\n",
      "Elasticnet model (alpha=0.400000, l1_ratio=0.500000):\n",
      "  RMSE: 0.7759342885655987\n",
      "  MAE: 0.6090076377075831\n",
      "  R2: 0.14693206734185604\n",
      "Elasticnet model (alpha=0.500000, l1_ratio=0.500000):\n",
      "  RMSE: 0.7931640229276851\n",
      "  MAE: 0.6271946374319586\n",
      "  R2: 0.10862644997792614\n",
      "Elasticnet model (alpha=0.600000, l1_ratio=0.500000):\n",
      "  RMSE: 0.811295303072729\n",
      "  MAE: 0.645693705089251\n",
      "  R2: 0.06740807086129275\n",
      "Elasticnet model (alpha=0.700000, l1_ratio=0.500000):\n",
      "  RMSE: 0.8298921852578498\n",
      "  MAE: 0.6629780128961713\n",
      "  R2: 0.024163452726365775\n",
      "Elasticnet model (alpha=0.800000, l1_ratio=0.500000):\n",
      "  RMSE: 0.8320198635059106\n",
      "  MAE: 0.6657357030427604\n",
      "  R2: 0.019153337439844154\n",
      "Elasticnet model (alpha=0.900000, l1_ratio=0.500000):\n",
      "  RMSE: 0.8323808561832262\n",
      "  MAE: 0.6669472047761406\n",
      "  R2: 0.0183020229672054\n"
     ]
    }
   ],
   "source": [
    "ep = 0\n",
    "for i in np.arange(0,1,0.1):\n",
    "    with mlflow.start_run():\n",
    "        lr = ElasticNet(alpha=i, l1_ratio=l1_ratio, random_state=42)\n",
    "        lr.fit(train_x, train_y)\n",
    "\n",
    "        predicted_qualities = lr.predict(test_x)\n",
    "\n",
    "        (rmse, mae, r2) = eval_metrics(test_y, predicted_qualities)\n",
    "\n",
    "        print(\"Elasticnet model (alpha=%f, l1_ratio=%f):\" % (i, l1_ratio))\n",
    "        print(\"  RMSE: %s\" % rmse)\n",
    "        print(\"  MAE: %s\" % mae)\n",
    "        print(\"  R2: %s\" % r2)\n",
    "\n",
    "        mlflow.log_param(\"alpha\", i)\n",
    "        mlflow.log_param(\"l1_ratio\", l1_ratio)\n",
    "        mlflow.log_metric(\"rmse\", rmse,step=ep)\n",
    "        mlflow.log_metric(\"r2\", r2,step=ep)\n",
    "        mlflow.log_metric(\"mae\", mae,step=ep)\n",
    "        ep += 1\n",
    "\n",
    "        mlflow.sklearn.log_model(lr, \"model\")"
   ]
  },
  {
   "cell_type": "code",
   "execution_count": 13,
   "metadata": {},
   "outputs": [
    {
     "name": "stdout",
     "output_type": "stream",
     "text": [
      "INFO: 'new' does not exist. Creating a new experiment\n"
     ]
    }
   ],
   "source": [
    "# mlflow.create_experiment('new_experiment')\n",
    "mlflow.set_experiment('new')"
   ]
  },
  {
   "cell_type": "code",
   "execution_count": 15,
   "metadata": {},
   "outputs": [],
   "source": [
    "mlflow.sklearn.save_model(lr,'ml_models/')"
   ]
  },
  {
   "cell_type": "code",
   "execution_count": 17,
   "metadata": {},
   "outputs": [],
   "source": [
    "lr = mlflow.sklearn.load_model('mlruns/0/e4dd8a99dbce4a1ea55aa260cca8c684/artifacts/model/')"
   ]
  },
  {
   "cell_type": "code",
   "execution_count": null,
   "metadata": {},
   "outputs": [],
   "source": []
  }
 ],
 "metadata": {
  "kernelspec": {
   "display_name": "Python 3",
   "language": "python",
   "name": "python3"
  },
  "language_info": {
   "codemirror_mode": {
    "name": "ipython",
    "version": 3
   },
   "file_extension": ".py",
   "mimetype": "text/x-python",
   "name": "python",
   "nbconvert_exporter": "python",
   "pygments_lexer": "ipython3",
   "version": "3.7.0"
  }
 },
 "nbformat": 4,
 "nbformat_minor": 4
}
